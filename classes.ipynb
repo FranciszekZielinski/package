{
 "cells": [
  {
   "cell_type": "code",
   "execution_count": null,
   "metadata": {},
   "outputs": [],
   "source": [
    "%load_ext autoreload\n",
    "%autoreload 2"
   ]
  },
  {
   "cell_type": "markdown",
   "metadata": {},
   "source": [
    "# Instalation\n",
    "`pip install` command has `-e/--editable` flag. Package installed in editable mode does not need reinstallation after package code was edited."
   ]
  },
  {
   "cell_type": "markdown",
   "metadata": {
    "pycharm": {
     "name": "#%%\n"
    }
   },
   "source": [
    "## Exercise 1\n",
    "\n",
    "Install `simple_package1` in editable mode. \n",
    "install `simple_package2` in normal mode. \n",
    "Execute bellow cells. "
   ]
  },
  {
   "cell_type": "code",
   "execution_count": null,
   "metadata": {},
   "outputs": [],
   "source": [
    "import simple_package1\n",
    "simple_package1.function()\n",
    "simple_package1.__file__"
   ]
  },
  {
   "cell_type": "code",
   "execution_count": null,
   "metadata": {},
   "outputs": [],
   "source": [
    "import simple_package2\n",
    "simple_package2.function()\n",
    "simple_package2.__file__"
   ]
  },
  {
   "cell_type": "markdown",
   "metadata": {},
   "source": [
    "edit `simple_package1` and `simple_package2` messages and execute bellow cell"
   ]
  },
  {
   "cell_type": "code",
   "execution_count": null,
   "metadata": {},
   "outputs": [],
   "source": [
    "simple_package1.function()\n",
    "simple_package2.function()"
   ]
  },
  {
   "cell_type": "code",
   "execution_count": null,
   "metadata": {},
   "outputs": [],
   "source": [
    "# may not work on windows\n",
    "!pip list |grep simple"
   ]
  },
  {
   "cell_type": "markdown",
   "metadata": {},
   "source": [
    "# Package Metadata\n",
    "\n",
    "Metadata are usefull to proper describe package. It is usefull when one would like to share package with others (or as notes for yourself). Base list of possible metadata categories are avaliable here: https://docs.python.org/3/distutils/setupscript.html#additional-meta-data list of classifiers acceptable on pypi.org are here: https://pypi.org/classifiers/\n",
    "\n",
    "See: https://pypi.org/project/setuptools/ for presenting of metadata on pypi.org.\n",
    "\n",
    "Package metadata could be also accesed from code:"
   ]
  },
  {
   "cell_type": "code",
   "execution_count": null,
   "metadata": {},
   "outputs": [],
   "source": [
    "# need to install `package3` content\n",
    "\n",
    "from importlib import metadata\n",
    "\n",
    "metadata.metadata('simple-package-3')[\"Author\"]"
   ]
  },
  {
   "cell_type": "markdown",
   "metadata": {},
   "source": [
    "## Exercise 2\n",
    "Modify `setup.py` or `setup.cfg` to include file `Readme.rst` as `long_description` metadata. It should read content of `Readme.rst` file. Reinstall its and check that `long_description` content is valid."
   ]
  },
  {
   "cell_type": "code",
   "execution_count": null,
   "metadata": {},
   "outputs": [],
   "source": []
  },
  {
   "cell_type": "markdown",
   "metadata": {},
   "source": [
    "## Exercise 3 \n",
    "Check if update package metadata could be readed using `importlib.metadata` without reinstalling package. "
   ]
  },
  {
   "cell_type": "code",
   "execution_count": null,
   "metadata": {},
   "outputs": [],
   "source": []
  },
  {
   "cell_type": "markdown",
   "metadata": {},
   "source": [
    "# Code in subdirectory\n",
    "\n",
    "With increas of project size and to avoid path polution ther is good to move package(s) code to separate directory, for example `src`. This is really usefull for packages with binary extensions. "
   ]
  },
  {
   "cell_type": "markdown",
   "metadata": {},
   "source": [
    "## Exercise 4 \n",
    "Base on documentation from https://setuptools.readthedocs.io/en/latest/userguide/package_discovery.html?highlight=find_packages%20#using-find-or-find-packages change structure of copy of `simple-package-3` to move `simple_package3` directory to `src` directory"
   ]
  },
  {
   "cell_type": "code",
   "execution_count": null,
   "metadata": {},
   "outputs": [],
   "source": []
  },
  {
   "cell_type": "markdown",
   "metadata": {},
   "source": [
    "# Packed source file\n",
    "\n",
    "When there is need to share code without need to provide access to repository there is nice to share it in packed format. Currently Python support two types of packed format\n",
    "\n",
    "1. _sdist_ – which is packed whole source file (with need to execute `setup.py` conten during installation). Documentation here: https://docs.python.org/3/distutils/sourcedist.html. To create file use command `python setup.py sdist`\n",
    "2. _wheel_ – unpack and use file format. https://pypi.org/project/wheel/ https://realpython.com/python-wheels/. To create use `pip wheel . --no-deps` or `python setup.py bdist_wheel`. (need th have installed `wheel` package)"
   ]
  },
  {
   "cell_type": "markdown",
   "metadata": {},
   "source": [
    "# Package data \n",
    "By default python packaging tools collect only `*.py` files. Sometimes our code needs to load data from some files. \n",
    "Documentation: https://packaging.python.org/guides/using-manifest-in/, https://setuptools.readthedocs.io/en/latest/userguide/datafiles.html?highlight=package%20data%20files\n",
    "\n",
    "Packed source files could be used for check if everything is included."
   ]
  },
  {
   "cell_type": "markdown",
   "metadata": {},
   "source": [
    "## Exercise 5\n",
    "\n",
    "Package from `package4` directory works if is installed in editable mode but does not work when install normally. Fix this by include missed data files. "
   ]
  },
  {
   "cell_type": "code",
   "execution_count": null,
   "metadata": {},
   "outputs": [],
   "source": [
    "!pip install -e ./package4"
   ]
  },
  {
   "cell_type": "code",
   "execution_count": null,
   "metadata": {},
   "outputs": [],
   "source": [
    "import simple_package4\n",
    "simple_package4.function()"
   ]
  },
  {
   "cell_type": "markdown",
   "metadata": {},
   "source": [
    "# Install time depandecies\n",
    "\n",
    "Sometime `setup.py` file needs libraries outside standard library. As `setup.py` file is python executable then it cannot provide such information. To solve this python developers introduces `pyproject.toml` file (described in [PEP517](https://www.python.org/dev/peps/pep-0517/))."
   ]
  }
 ],
 "metadata": {
  "kernelspec": {
   "display_name": "Python 3",
   "language": "python",
   "name": "python3"
  },
  "language_info": {
   "codemirror_mode": {
    "name": "ipython",
    "version": 3
   },
   "file_extension": ".py",
   "mimetype": "text/x-python",
   "name": "python",
   "nbconvert_exporter": "python",
   "pygments_lexer": "ipython3",
   "version": "3.8.3"
  }
 },
 "nbformat": 4,
 "nbformat_minor": 1
}

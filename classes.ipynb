{
 "cells": [
  {
   "cell_type": "code",
   "execution_count": null,
   "metadata": {
    "collapsed": true
   },
   "outputs": [],
   "source": [
    "%load_ext autoreload\n",
    "%autoreload 2"
   ]
  },
  {
   "cell_type": "markdown",
   "metadata": {},
   "source": [
    "# Instalation\n",
    "`pip install` command has `-e/--editable` flag. Package installed in editable mode does not need reinstallation after package code was edited."
   ]
  },
  {
   "cell_type": "markdown",
   "metadata": {
    "pycharm": {
     "name": "#%%\n"
    }
   },
   "source": [
    "## Exercise 1\n",
    "\n",
    "Install `simple_package1` in editable mode. \n",
    "install `simple_package2` in normal mode. \n",
    "Execute bellow cells. "
   ]
  },
  {
   "cell_type": "code",
   "execution_count": 1,
   "metadata": {},
   "outputs": [
    {
     "name": "stdout",
     "output_type": "stream",
     "text": [
      "This is dummy function form simple package 1\n"
     ]
    },
    {
     "data": {
      "text/plain": [
       "'/home/czaki/Projekty/python-tools/creating-package/package1/simple_package1.py'"
      ]
     },
     "execution_count": 1,
     "metadata": {},
     "output_type": "execute_result"
    }
   ],
   "source": [
    "import simple_package1\n",
    "simple_package1.function()\n",
    "simple_package1.__file__"
   ]
  },
  {
   "cell_type": "code",
   "execution_count": 2,
   "metadata": {},
   "outputs": [
    {
     "name": "stdout",
     "output_type": "stream",
     "text": [
      "This is dummy function form simple package 2\n"
     ]
    },
    {
     "data": {
      "text/plain": [
       "'/home/czaki/.pyenv/versions/3.8.3/envs/python-tools/lib/python3.8/site-packages/simple_package2.py'"
      ]
     },
     "execution_count": 2,
     "metadata": {},
     "output_type": "execute_result"
    }
   ],
   "source": [
    "import simple_package2\n",
    "simple_package2.function()\n",
    "simple_package2.__file__"
   ]
  },
  {
   "cell_type": "markdown",
   "metadata": {},
   "source": [
    "edit `simple_package1` and `simple_package2` messages and execute bellow cell"
   ]
  },
  {
   "cell_type": "code",
   "execution_count": 3,
   "metadata": {},
   "outputs": [
    {
     "name": "stdout",
     "output_type": "stream",
     "text": [
      "This is dummy function form simple package 1\n",
      "This is dummy function form simple package 2\n"
     ]
    }
   ],
   "source": [
    "simple_package1.function()\n",
    "simple_package2.function()"
   ]
  },
  {
   "cell_type": "code",
   "execution_count": 5,
   "metadata": {},
   "outputs": [
    {
     "name": "stdout",
     "output_type": "stream",
     "text": [
      "simple-package-1   0.1        /home/czaki/Projekty/python-tools/creating-package/package1\n",
      "simple-package-2   0.1\n",
      "\u001b[33mWARNING: You are using pip version 20.1.1; however, version 20.3.3 is available.\n",
      "You should consider upgrading via the '/home/czaki/.pyenv/versions/3.8.3/envs/python-tools/bin/python3.8 -m pip install --upgrade pip' command.\u001b[0m\n"
     ]
    }
   ],
   "source": [
    "# may not work on windows\n",
    "!pip list |grep simple"
   ]
  },
  {
   "cell_type": "markdown",
   "metadata": {},
   "source": [
    "# Package Metadata\n",
    "\n",
    "Metadata are usefull to proper describe package. It is usefull when one would like to share package with others (or as notes for yourself). Base list of possible metadata categories are avaliable here: https://docs.python.org/3/distutils/setupscript.html#additional-meta-data list of classifiers acceptable on pypi.org are here: https://pypi.org/classifiers/\n",
    "\n",
    "See: https://pypi.org/project/setuptools/ for presenting of metadata on pypi.org.\n",
    "\n",
    "Package metadata could be also accesed from code:"
   ]
  },
  {
   "cell_type": "code",
   "execution_count": 13,
   "metadata": {},
   "outputs": [
    {
     "data": {
      "text/plain": [
       "'Grzegorz Bokota'"
      ]
     },
     "execution_count": 13,
     "metadata": {},
     "output_type": "execute_result"
    }
   ],
   "source": [
    "# need to install `package3` content\n",
    "\n",
    "from importlib import metadata\n",
    "\n",
    "metadata.metadata('simple-package-3')[\"Author\"]"
   ]
  },
  {
   "cell_type": "markdown",
   "metadata": {},
   "source": [
    "## Exercise 2\n",
    "Modify `setup.py` or `setup.cfg` to include file `Readme.rst` as `long_description` metadata. It should read content of `Readme.rst` file. Reinstall its and check that `long_description` content is valid."
   ]
  },
  {
   "cell_type": "code",
   "execution_count": null,
   "metadata": {},
   "outputs": [],
   "source": []
  },
  {
   "cell_type": "code",
   "execution_count": null,
   "metadata": {},
   "outputs": [],
   "source": []
  }
 ],
 "metadata": {
  "kernelspec": {
   "display_name": "Python 3",
   "language": "python",
   "name": "python3"
  },
  "language_info": {
   "codemirror_mode": {
    "name": "ipython",
    "version": 3
   },
   "file_extension": ".py",
   "mimetype": "text/x-python",
   "name": "python",
   "nbconvert_exporter": "python",
   "pygments_lexer": "ipython3",
   "version": "3.8.3"
  }
 },
 "nbformat": 4,
 "nbformat_minor": 1
}
